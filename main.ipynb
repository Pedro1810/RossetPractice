{
 "cells": [
  {
   "cell_type": "code",
   "execution_count": 1,
   "metadata": {},
   "outputs": [],
   "source": [
    "import re\n",
    "import math\n",
    "import codecs\n",
    "import csv\n",
    "import pandas as pd\n",
    "import matplotlib.pyplot as plt\n",
    "import typing\n",
    "from collections import Counter\n",
    "from scipy.cluster.hierarchy import linkage, dendrogram\n",
    "from sklearn.cluster import KMeans"
   ]
  },
  {
   "cell_type": "code",
   "execution_count": 3,
   "metadata": {},
   "outputs": [],
   "source": [
    "# Словарь аббривиатур и сокращений из CSV в словарь\n",
    "def reductDictFromCSV(path: str) -> list:\n",
    "    with codecs.open(path, 'r', encoding=\"utf_8_sig\") as csvfile:\n",
    "        reader = csv.reader(csvfile, delimiter=';')\n",
    "        reductionsDict = {}\n",
    "        for row in reader:\n",
    "            reductionsDict[row[0]] = row[1].lower()\n",
    "    return reductionsDict"
   ]
  },
  {
   "cell_type": "code",
   "execution_count": 4,
   "metadata": {},
   "outputs": [],
   "source": [
    "# Список стоп слов из CSV в список\n",
    "def getStopWordsListFromCSV(path: str) -> list:\n",
    "    with codecs.open(path, 'r', encoding=\"utf_8_sig\") as csvfile:\n",
    "        reader = csv.reader(csvfile)\n",
    "        stopWords = []\n",
    "        for row in reader:\n",
    "            stopWords.append(row[0].strip().lower())\n",
    "    return stopWords"
   ]
  },
  {
   "cell_type": "code",
   "execution_count": 5,
   "metadata": {},
   "outputs": [],
   "source": [
    "# Лемматизатор из CSV в словарь\n",
    "def getLemmizatorDictFromCSV(path: str) -> dict:\n",
    "    with codecs.open(path, 'r', encoding=\"utf_8_sig\") as csvfile:\n",
    "        reader = csv.reader(csvfile, delimiter='@')\n",
    "        lemmizatorDict = {}\n",
    "        for row in reader:\n",
    "            lemmizatorDict[row[0].strip()] = row[1].strip()\n",
    "    return lemmizatorDict"
   ]
  },
  {
   "cell_type": "code",
   "execution_count": 6,
   "metadata": {},
   "outputs": [],
   "source": [
    "global REDUCTIONDICT, STOPWORDSLIST, LEMMIZATORDICT, NEWLEMMSLIST\n",
    "# Словарь сокращений и аббривиатур\n",
    "REDUCTIONDICT = reductDictFromCSV('reductions.csv')"
   ]
  },
  {
   "cell_type": "code",
   "execution_count": 7,
   "metadata": {},
   "outputs": [],
   "source": [
    "# Список стоп слов\n",
    "STOPWORDSLIST = getStopWordsListFromCSV('stopword.csv')"
   ]
  },
  {
   "cell_type": "code",
   "execution_count": 7,
   "metadata": {},
   "outputs": [],
   "source": [
    "# Словарь Леммизатор\n",
    "LEMMIZATORDICT = getLemmizatorDictFromCSV('D:\\lemmatizator.csv')"
   ]
  },
  {
   "cell_type": "code",
   "execution_count": 8,
   "metadata": {},
   "outputs": [],
   "source": [
    "# Список новых лемм\n",
    "NEWLEMMSLIST = []"
   ]
  },
  {
   "cell_type": "code",
   "execution_count": 9,
   "metadata": {},
   "outputs": [],
   "source": [
    "# Список всех слов из файла, формата Docx (Не изспользую)\n",
    "def getListOfWordsFromDoc(filename: str) -> list:\n",
    "    doc = docx.Document(filename)\n",
    "    fullText = []\n",
    "    for para in doc.paragraphs:\n",
    "        fullText.append(para.text)\n",
    "    text = '\\n'.join(fullText)\n",
    "    words = re.findall(r\"\\b[\\w\\-,\\.]+\\b\", text)\n",
    "    words.sort()\n",
    "    return words"
   ]
  },
  {
   "cell_type": "code",
   "execution_count": 10,
   "metadata": {},
   "outputs": [],
   "source": [
    "# Список всех слов из файла, формата TXT\n",
    "def getListOfWordsFromTxt(filename: str) -> list:\n",
    "    with codecs.open(filename, 'r', encoding=\"utf_8_sig\") as file:\n",
    "        txt = file.read()\n",
    "    txt = clearReductFromTXT(txt) # Разворачиваем сокращения\n",
    "    txt = re.sub(r'[Ёё]', 'е', txt)\n",
    "    words = re.findall(r\"[а-яА-ЯёЁ]{2,}\", txt) # Вытаскиваю только слова из текста + токенизируем текст\n",
    "    words = list(map(lambda x: x.strip().lower(), words)) # Приводим все слова к нижнему регистру\n",
    "    words = getWordsListWithoutStopWords(words) # Чистим список слов от стоп слов\n",
    "    words = lemmatizatorFromListOfWords(words) # Лемматизируем наш список слов\n",
    "    return words # Возвращяем чистый список всех слов"
   ]
  },
  {
   "cell_type": "code",
   "execution_count": 11,
   "metadata": {},
   "outputs": [],
   "source": [
    "# Обработка словаря на стоп слова\n",
    "def getWordsListWithoutStopWords(words: list) -> list:\n",
    "    for word in words: # Прохожусь циклом по всем словам\n",
    "        if word in STOPWORDSLIST: # Если слово есть в списке Стоп Слов, то:\n",
    "            wordQuantity = words.count(word)\n",
    "            for _ in range(wordQuantity):\n",
    "                words.remove(word) # Удаляем его\n",
    "    return words"
   ]
  },
  {
   "cell_type": "code",
   "execution_count": 12,
   "metadata": {},
   "outputs": [],
   "source": [
    "# Расшифровывает аббривиатуры и сокращения в тексте\n",
    "def getTXTListWithoutStopWords(txt: str) -> str:\n",
    "    for word in STOPWORDSLIST:\n",
    "        txt = re.sub('\\\\\\b' + word + '\\\\\\b', '', txt)\n",
    "    return txt"
   ]
  },
  {
   "cell_type": "code",
   "execution_count": 2,
   "metadata": {},
   "outputs": [],
   "source": [
    "# Словарь частоты слов\n",
    "def getFreqFromText(words: list) -> Counter:\n",
    "    countedWords = Counter(words)\n",
    "    return countedWords"
   ]
  },
  {
   "cell_type": "code",
   "execution_count": 15,
   "metadata": {},
   "outputs": [],
   "source": [
    "# запись словаря в CSV\n",
    "def dictToCSV(freqDict: dict, path: str) -> None:\n",
    "    with codecs.open(path, \"w\", encoding=\"utf_8_sig\") as csvfile:\n",
    "        writer = csv.writer(csvfile, delimiter='^')\n",
    "        for key in freqDict:              \n",
    "            writer.writerow([key, freqDict[key]])"
   ]
  },
  {
   "cell_type": "code",
   "execution_count": 65,
   "metadata": {},
   "outputs": [],
   "source": [
    "# Метод подсчитывает TF-IDF для списка документов (Не изспользую)\n",
    "def compute_tfidf(corpus: list) -> list:\n",
    "    def compute_tf(text: str) -> Counter:\n",
    "        tf_text = getFreqFromText(text)\n",
    "        \n",
    "        if len(tf_text.keys()) > 3000:\n",
    "            keysWithIncorrectValues = []\n",
    "            for key in tf_text.keys():\n",
    "                if tf_text[key] < 15:\n",
    "                    keysWithIncorrectValues.append(key)\n",
    "            for key in keysWithIncorrectValues:\n",
    "                tf_text.pop(key)\n",
    "                \n",
    "        for i in tf_text:\n",
    "            tf_text[i] = tf_text[i]/float(len(text))\n",
    "        return tf_text\n",
    "\n",
    "    def compute_idf(word: str, corpus: list) -> float:\n",
    "        return math.log10(len(corpus)/sum([1.0 for i in corpus if word in i]))\n",
    "\n",
    "    documents_list = []\n",
    "    for text in corpus:\n",
    "        tf_idf_dictionary = {}\n",
    "        computed_tf = compute_tf(text)\n",
    "        for word in computed_tf:\n",
    "            tf_idf_dictionary[word] = computed_tf[word] * compute_idf(word, corpus)\n",
    "        documents_list.append(tf_idf_dictionary)\n",
    "    return documents_list"
   ]
  },
  {
   "cell_type": "code",
   "execution_count": 17,
   "metadata": {},
   "outputs": [],
   "source": [
    "# Расшифровывает аббривиатуры и сокращения в списке (Не изспользую)\n",
    "def clearReductFromWordList(wordsList: list) -> list:\n",
    "    for word in wordsList:\n",
    "        if word in REDUCTIONDICT.keys():\n",
    "            wordsList[wordsList.index(word)] = REDUCTIONDICT[word]\n",
    "    return wordsList"
   ]
  },
  {
   "cell_type": "code",
   "execution_count": 18,
   "metadata": {},
   "outputs": [],
   "source": [
    "# Расшифровывает аббривиатуры и сокращения в тексте\n",
    "def clearReductFromTXT(txt: str) -> str:\n",
    "    for key in REDUCTIONDICT.keys():\n",
    "        repl = REDUCTIONDICT[key]\n",
    "        txt = re.sub('\\\\b' + key + '\\\\b', repl, txt)\n",
    "    return txt"
   ]
  },
  {
   "cell_type": "code",
   "execution_count": 19,
   "metadata": {},
   "outputs": [],
   "source": [
    "# Лемматизация списка слов\n",
    "def lemmatizatorFromListOfWords(wordsList: list) -> list:\n",
    "    for word in wordsList:\n",
    "        if LEMMIZATORDICT.get(word) != None:\n",
    "            wordsList[wordsList.index(word)] = LEMMIZATORDICT[word]\n",
    "        else:\n",
    "            if word not in NEWLEMMSLIST:\n",
    "                NEWLEMMSLIST.append(word)\n",
    "    return wordsList"
   ]
  },
  {
   "cell_type": "code",
   "execution_count": 20,
   "metadata": {},
   "outputs": [],
   "source": [
    "# Создание общего словаря\n",
    "def getGeneralList(freq: int, fileName: str) -> list:\n",
    "    generalList = []\n",
    "    for i in range(1, freq + 1):\n",
    "        generalList += getListOfWordsFromTxt(f'Docs/{i}/{fileName}_{i}.txt')\n",
    "        print(f'Файл №{i} обработан')\n",
    "    return generalList"
   ]
  },
  {
   "cell_type": "code",
   "execution_count": 50,
   "metadata": {},
   "outputs": [],
   "source": [
    "# Список списков слов из текста\n",
    "def getListOfWordsLists(freq: int, fileName: str) -> list:\n",
    "    listOfLists = []\n",
    "    for i in range(1, freq + 1):\n",
    "        listOfLists.append(getListOfWordsFromTxt(f'Docs/{i}/{fileName}_{i}.txt'))\n",
    "    return listOfLists"
   ]
  },
  {
   "cell_type": "code",
   "execution_count": 22,
   "metadata": {},
   "outputs": [],
   "source": [
    "# Создание TF-IDF и заголовков\n",
    "def createTfidfAndHeader(corpus: list) -> list, list:\n",
    "    computedTfidf = compute_tfidf(corpus)\n",
    "    listOfKeys = [i.keys() for i in computedTfidf]\n",
    "    \n",
    "    header = []\n",
    "    for key in listOfKeys:\n",
    "        for word in key:\n",
    "            if word not in header:\n",
    "                header.append(word)\n",
    "    \n",
    "    return computedTfidf, header"
   ]
  },
  {
   "cell_type": "code",
   "execution_count": 40,
   "metadata": {},
   "outputs": [],
   "source": [
    "# Запись матрицы TF-IDF в CSV\n",
    "def tfidfToMatrix(path: str, freq: int, fileName: str) -> None:\n",
    "    computedTfidf: list, header: list = createTfidfAndHeader(getListOfWordsLists(freq, fileName))\n",
    "                \n",
    "    with codecs.open(path, \"w\", encoding=\"utf_8_sig\") as csvfile:\n",
    "        writer = csv.writer(csvfile, delimiter='^')\n",
    "        mainHeader = header.copy()\n",
    "        mainHeader.insert(0, 'Номер колонок')\n",
    "        writer.writerow(mainHeader)\n",
    "        index = 1\n",
    "        for dictTfidf in computedTfidf:\n",
    "            listOfWords = []\n",
    "            for headerWord in header:\n",
    "                if headerWord in dictTfidf.keys():\n",
    "                    listOfWords.append(dictTfidf[headerWord])\n",
    "                else:\n",
    "                    listOfWords.append(0.0)\n",
    "            writer.writerow([index, *listOfWords])\n",
    "            print(f'Файл №{index} обработан')\n",
    "            index += 1"
   ]
  },
  {
   "cell_type": "code",
   "execution_count": 71,
   "metadata": {},
   "outputs": [],
   "source": [
    "# Визуализация матрицы TF-IDF в виде дендограммы\n",
    "def showDendogram(matrix: list, name: str) -> None:\n",
    "    varieties = range(1, matrix.shape[0] + 1)\n",
    "    samples = matrix.values\n",
    "    mergings = linkage(samples, method='complete')\n",
    "    dendrogram(mergings,\n",
    "               labels=varieties,\n",
    "               leaf_rotation=90,\n",
    "               leaf_font_size=20,\n",
    "               )\n",
    "    plt.title(f'Файлы {name}')\n",
    "    plt.show()"
   ]
  },
  {
   "cell_type": "code",
   "execution_count": 117,
   "metadata": {},
   "outputs": [],
   "source": [
    "# Кластеризация TF-IDF матрицы с помощью метода ближайшего соседа\n",
    "def showKmeans(matrix: list, name: str, n: int) -> None:\n",
    "    model = KMeans(n_clusters=n)\n",
    "    model.fit(matrix.values)\n",
    "    all_predictions = model.predict(matrix.values).tolist()\n",
    "    result = {}\n",
    "    for index in range(len(all_predictions)):\n",
    "        result[index + 1] = all_predictions[index]\n",
    "#     print(all_predictions)\n",
    "    print(result)"
   ]
  },
  {
   "cell_type": "code",
   "execution_count": 32,
   "metadata": {},
   "outputs": [],
   "source": [
    "# dictToCSV(getFreqFromText(getListOfWordsFromTxt('Docs/1/com_1.txt')), 'test.csv')\n",
    "# dictToCSV(getFreqFromText(getListOfWordsFromTxt('Docs/15/text_15.txt')), 'Docs/15/clear/dict_text_clear_15.csv')\n",
    "# dictToCSV(getFreqFromText(getListOfWordsFromTxt('Docs/15/goals_15.txt')), 'Docs/15/clear/dict_goals_clear_15.csv')\n",
    "# dictToCSV(getFreqFromText(getListOfWordsFromTxt('Docs/15/tasks_15.txt')), 'Docs/15/clear/dict_tasks_clear_15.csv')\n",
    "# dictToCSV(getFreqFromText(getListOfWordsFromTxt('Docs/15/content_15.txt')), 'Docs/15/clear/dict_content_clear_15.csv')"
   ]
  },
  {
   "cell_type": "code",
   "execution_count": 36,
   "metadata": {
    "collapsed": true
   },
   "outputs": [
    {
     "name": "stdout",
     "output_type": "stream",
     "text": [
      "Файл №1 обработан\n"
     ]
    },
    {
     "ename": "KeyboardInterrupt",
     "evalue": "",
     "output_type": "error",
     "traceback": [
      "\u001b[1;31m---------------------------------------------------------------------------\u001b[0m",
      "\u001b[1;31mKeyboardInterrupt\u001b[0m                         Traceback (most recent call last)",
      "\u001b[1;32m<ipython-input-36-79e60cacff29>\u001b[0m in \u001b[0;36m<module>\u001b[1;34m\u001b[0m\n\u001b[0;32m      1\u001b[0m \u001b[1;31m# Создание словарей частот\u001b[0m\u001b[1;33m\u001b[0m\u001b[1;33m\u001b[0m\u001b[1;33m\u001b[0m\u001b[0m\n\u001b[0;32m      2\u001b[0m \u001b[0mstartTime\u001b[0m \u001b[1;33m=\u001b[0m \u001b[0mtime\u001b[0m\u001b[1;33m.\u001b[0m\u001b[0mtime\u001b[0m\u001b[1;33m(\u001b[0m\u001b[1;33m)\u001b[0m\u001b[1;33m\u001b[0m\u001b[1;33m\u001b[0m\u001b[0m\n\u001b[1;32m----> 3\u001b[1;33m \u001b[0mdictToCSV\u001b[0m\u001b[1;33m(\u001b[0m\u001b[0mgetFreqFromText\u001b[0m\u001b[1;33m(\u001b[0m\u001b[0mgetGeneralList\u001b[0m\u001b[1;33m(\u001b[0m\u001b[1;36m15\u001b[0m\u001b[1;33m)\u001b[0m\u001b[1;33m)\u001b[0m\u001b[1;33m,\u001b[0m \u001b[1;34m'general_dict.csv'\u001b[0m\u001b[1;33m)\u001b[0m\u001b[1;33m\u001b[0m\u001b[1;33m\u001b[0m\u001b[0m\n\u001b[0m\u001b[0;32m      4\u001b[0m \u001b[0mprint\u001b[0m\u001b[1;33m(\u001b[0m\u001b[1;34mf'Прошло {time.time() - startTime} секунд'\u001b[0m\u001b[1;33m)\u001b[0m\u001b[1;33m\u001b[0m\u001b[1;33m\u001b[0m\u001b[0m\n",
      "\u001b[1;32m<ipython-input-29-215da52d1460>\u001b[0m in \u001b[0;36mgetGeneralList\u001b[1;34m(freq)\u001b[0m\n\u001b[0;32m      2\u001b[0m     \u001b[0mgeneralList\u001b[0m \u001b[1;33m=\u001b[0m \u001b[1;33m[\u001b[0m\u001b[1;33m]\u001b[0m\u001b[1;33m\u001b[0m\u001b[1;33m\u001b[0m\u001b[0m\n\u001b[0;32m      3\u001b[0m     \u001b[1;32mfor\u001b[0m \u001b[0mi\u001b[0m \u001b[1;32min\u001b[0m \u001b[0mrange\u001b[0m\u001b[1;33m(\u001b[0m\u001b[1;36m1\u001b[0m\u001b[1;33m,\u001b[0m \u001b[0mfreq\u001b[0m \u001b[1;33m+\u001b[0m \u001b[1;36m1\u001b[0m\u001b[1;33m)\u001b[0m\u001b[1;33m:\u001b[0m\u001b[1;33m\u001b[0m\u001b[1;33m\u001b[0m\u001b[0m\n\u001b[1;32m----> 4\u001b[1;33m         \u001b[0mgeneralList\u001b[0m \u001b[1;33m+=\u001b[0m \u001b[0mgetListOfWordsFromTxt\u001b[0m\u001b[1;33m(\u001b[0m\u001b[1;34mf'Docs/{i}/com_{i}.txt'\u001b[0m\u001b[1;33m)\u001b[0m\u001b[1;33m\u001b[0m\u001b[1;33m\u001b[0m\u001b[0m\n\u001b[0m\u001b[0;32m      5\u001b[0m \u001b[1;31m#         generalList += getListOfWordsFromTxt(f'Docs/{i}/text_{i}.txt')\u001b[0m\u001b[1;33m\u001b[0m\u001b[1;33m\u001b[0m\u001b[1;33m\u001b[0m\u001b[0m\n\u001b[0;32m      6\u001b[0m \u001b[1;31m#         generalList += getListOfWordsFromTxt(f'Docs/{i}/goals_{i}.txt')\u001b[0m\u001b[1;33m\u001b[0m\u001b[1;33m\u001b[0m\u001b[1;33m\u001b[0m\u001b[0m\n",
      "\u001b[1;32m<ipython-input-13-52f574f14b97>\u001b[0m in \u001b[0;36mgetListOfWordsFromTxt\u001b[1;34m(filename)\u001b[0m\n\u001b[0;32m      7\u001b[0m     \u001b[0mwords\u001b[0m \u001b[1;33m=\u001b[0m \u001b[0mre\u001b[0m\u001b[1;33m.\u001b[0m\u001b[0mfindall\u001b[0m\u001b[1;33m(\u001b[0m\u001b[1;34mr\"[а-яА-ЯёЁ]{2,}\"\u001b[0m\u001b[1;33m,\u001b[0m \u001b[0mtxt\u001b[0m\u001b[1;33m)\u001b[0m \u001b[1;31m# Вытаскиваю только слова из текста + токенизируем текст\u001b[0m\u001b[1;33m\u001b[0m\u001b[1;33m\u001b[0m\u001b[0m\n\u001b[0;32m      8\u001b[0m     \u001b[0mwords\u001b[0m \u001b[1;33m=\u001b[0m \u001b[0mlist\u001b[0m\u001b[1;33m(\u001b[0m\u001b[0mmap\u001b[0m\u001b[1;33m(\u001b[0m\u001b[1;32mlambda\u001b[0m \u001b[0mx\u001b[0m\u001b[1;33m:\u001b[0m \u001b[0mx\u001b[0m\u001b[1;33m.\u001b[0m\u001b[0mstrip\u001b[0m\u001b[1;33m(\u001b[0m\u001b[1;33m)\u001b[0m\u001b[1;33m.\u001b[0m\u001b[0mlower\u001b[0m\u001b[1;33m(\u001b[0m\u001b[1;33m)\u001b[0m\u001b[1;33m,\u001b[0m \u001b[0mwords\u001b[0m\u001b[1;33m)\u001b[0m\u001b[1;33m)\u001b[0m \u001b[1;31m# Приводим все слова к нижнему регистру\u001b[0m\u001b[1;33m\u001b[0m\u001b[1;33m\u001b[0m\u001b[0m\n\u001b[1;32m----> 9\u001b[1;33m     \u001b[0mwords\u001b[0m \u001b[1;33m=\u001b[0m \u001b[0mgetWordsListWithoutStopWords\u001b[0m\u001b[1;33m(\u001b[0m\u001b[0mwords\u001b[0m\u001b[1;33m)\u001b[0m \u001b[1;31m# Чистим список слов от стоп слов\u001b[0m\u001b[1;33m\u001b[0m\u001b[1;33m\u001b[0m\u001b[0m\n\u001b[0m\u001b[0;32m     10\u001b[0m     \u001b[0mwords\u001b[0m \u001b[1;33m=\u001b[0m \u001b[0mlemmatizatorFromListOfWords\u001b[0m\u001b[1;33m(\u001b[0m\u001b[0mwords\u001b[0m\u001b[1;33m)\u001b[0m \u001b[1;31m# Лемматизируем наш список слов\u001b[0m\u001b[1;33m\u001b[0m\u001b[1;33m\u001b[0m\u001b[0m\n\u001b[0;32m     11\u001b[0m     \u001b[1;32mreturn\u001b[0m \u001b[0mwords\u001b[0m \u001b[1;31m# Возвращяем чистый список всех слов\u001b[0m\u001b[1;33m\u001b[0m\u001b[1;33m\u001b[0m\u001b[0m\n",
      "\u001b[1;32m<ipython-input-14-f289a3ae72cf>\u001b[0m in \u001b[0;36mgetWordsListWithoutStopWords\u001b[1;34m(words)\u001b[0m\n\u001b[0;32m      1\u001b[0m \u001b[1;32mdef\u001b[0m \u001b[0mgetWordsListWithoutStopWords\u001b[0m\u001b[1;33m(\u001b[0m\u001b[0mwords\u001b[0m\u001b[1;33m)\u001b[0m\u001b[1;33m:\u001b[0m\u001b[1;33m\u001b[0m\u001b[1;33m\u001b[0m\u001b[0m\n\u001b[0;32m      2\u001b[0m     \u001b[1;32mfor\u001b[0m \u001b[0mword\u001b[0m \u001b[1;32min\u001b[0m \u001b[0mwords\u001b[0m\u001b[1;33m:\u001b[0m \u001b[1;31m# Прохожусь циклом по всем словам\u001b[0m\u001b[1;33m\u001b[0m\u001b[1;33m\u001b[0m\u001b[0m\n\u001b[1;32m----> 3\u001b[1;33m         \u001b[1;32mif\u001b[0m \u001b[0mword\u001b[0m \u001b[1;32min\u001b[0m \u001b[0mSTOPWORDSLIST\u001b[0m\u001b[1;33m:\u001b[0m \u001b[1;31m# Если слово есть в списке Стоп Слов, то:\u001b[0m\u001b[1;33m\u001b[0m\u001b[1;33m\u001b[0m\u001b[0m\n\u001b[0m\u001b[0;32m      4\u001b[0m             \u001b[0mwordQuantity\u001b[0m \u001b[1;33m=\u001b[0m \u001b[0mwords\u001b[0m\u001b[1;33m.\u001b[0m\u001b[0mcount\u001b[0m\u001b[1;33m(\u001b[0m\u001b[0mword\u001b[0m\u001b[1;33m)\u001b[0m\u001b[1;33m\u001b[0m\u001b[1;33m\u001b[0m\u001b[0m\n\u001b[0;32m      5\u001b[0m             \u001b[1;32mfor\u001b[0m \u001b[0m_\u001b[0m \u001b[1;32min\u001b[0m \u001b[0mrange\u001b[0m\u001b[1;33m(\u001b[0m\u001b[0mwordQuantity\u001b[0m\u001b[1;33m)\u001b[0m\u001b[1;33m:\u001b[0m\u001b[1;33m\u001b[0m\u001b[1;33m\u001b[0m\u001b[0m\n",
      "\u001b[1;31mKeyboardInterrupt\u001b[0m: "
     ]
    }
   ],
   "source": [
    "# Создание словарей частот\n",
    "startTime = time.time()\n",
    "dictToCSV(getFreqFromText(getGeneralList(15)), 'general_dict.csv')\n",
    "print(f'Прошло {time.time() - startTime} секунд')"
   ]
  },
  {
   "cell_type": "code",
   "execution_count": 67,
   "metadata": {
    "collapsed": true
   },
   "outputs": [
    {
     "name": "stdout",
     "output_type": "stream",
     "text": [
      "com файлы \n",
      "=============\n",
      "Файл №1 обработан\n",
      "Файл №2 обработан\n",
      "Файл №3 обработан\n",
      "Файл №4 обработан\n",
      "Файл №5 обработан\n",
      "Файл №6 обработан\n",
      "Файл №7 обработан\n",
      "Файл №8 обработан\n",
      "Файл №9 обработан\n",
      "Файл №10 обработан\n",
      "Файл №11 обработан\n",
      "Файл №12 обработан\n",
      "Файл №13 обработан\n",
      "Файл №14 обработан\n",
      "Файл №15 обработан\n",
      "text файлы \n",
      "=============\n",
      "Файл №1 обработан\n",
      "Файл №2 обработан\n",
      "Файл №3 обработан\n",
      "Файл №4 обработан\n",
      "Файл №5 обработан\n",
      "Файл №6 обработан\n",
      "Файл №7 обработан\n",
      "Файл №8 обработан\n",
      "Файл №9 обработан\n",
      "Файл №10 обработан\n",
      "Файл №11 обработан\n",
      "Файл №12 обработан\n",
      "Файл №13 обработан\n",
      "Файл №14 обработан\n",
      "Файл №15 обработан\n",
      "content файлы \n",
      "=============\n",
      "Файл №1 обработан\n",
      "Файл №2 обработан\n",
      "Файл №3 обработан\n",
      "Файл №4 обработан\n",
      "Файл №5 обработан\n",
      "Файл №6 обработан\n",
      "Файл №7 обработан\n",
      "Файл №8 обработан\n",
      "Файл №9 обработан\n",
      "Файл №10 обработан\n",
      "Файл №11 обработан\n",
      "Файл №12 обработан\n",
      "Файл №13 обработан\n",
      "Файл №14 обработан\n",
      "Файл №15 обработан\n",
      "tasks файлы \n",
      "=============\n",
      "Файл №1 обработан\n",
      "Файл №2 обработан\n",
      "Файл №3 обработан\n",
      "Файл №4 обработан\n",
      "Файл №5 обработан\n",
      "Файл №6 обработан\n",
      "Файл №7 обработан\n",
      "Файл №8 обработан\n",
      "Файл №9 обработан\n",
      "Файл №10 обработан\n",
      "Файл №11 обработан\n",
      "Файл №12 обработан\n",
      "Файл №13 обработан\n",
      "Файл №14 обработан\n",
      "Файл №15 обработан\n",
      "goals файлы \n",
      "=============\n",
      "Файл №1 обработан\n",
      "Файл №2 обработан\n",
      "Файл №3 обработан\n",
      "Файл №4 обработан\n",
      "Файл №5 обработан\n",
      "Файл №6 обработан\n",
      "Файл №7 обработан\n",
      "Файл №8 обработан\n",
      "Файл №9 обработан\n",
      "Файл №10 обработан\n",
      "Файл №11 обработан\n",
      "Файл №12 обработан\n",
      "Файл №13 обработан\n",
      "Файл №14 обработан\n",
      "Файл №15 обработан\n",
      "Прошло 465.9523501396179 секунд\n"
     ]
    }
   ],
   "source": [
    "# Создание матриц\n",
    "startTime = time.time()\n",
    "for name in ['com', 'text', 'content', 'tasks', 'goals']:\n",
    "    print(f'{name} файлы \\n=============')\n",
    "    tfidfToMatrix(f'matrices/{name}_matrix.csv', 15, name)\n",
    "print(f'Прошло {time.time() - startTime} секунд')"
   ]
  },
  {
   "cell_type": "code",
   "execution_count": 119,
   "metadata": {},
   "outputs": [
    {
     "data": {
      "image/png": "[encoded data removed]",
      "text/plain": [
       "<Figure size 432x288 with 1 Axes>"
      ]
     },
     "metadata": {
      "needs_background": "light"
     },
     "output_type": "display_data"
    },
    {
     "name": "stdout",
     "output_type": "stream",
     "text": [
      "{1: 1, 2: 1, 3: 1, 4: 1, 5: 1, 6: 1, 7: 1, 8: 0, 9: 0, 10: 0, 11: 0, 12: 0, 13: 0, 14: 0, 15: 0}\n"
     ]
    },
    {
     "data": {
      "image/png": "[encoded data removed]",
      "text/plain": [
       "<Figure size 432x288 with 1 Axes>"
      ]
     },
     "metadata": {
      "needs_background": "light"
     },
     "output_type": "display_data"
    },
    {
     "name": "stdout",
     "output_type": "stream",
     "text": [
      "{1: 1, 2: 1, 3: 1, 4: 1, 5: 1, 6: 1, 7: 1, 8: 0, 9: 0, 10: 0, 11: 0, 12: 0, 13: 0, 14: 0, 15: 0}\n"
     ]
    },
    {
     "data": {
      "image/png": "[encoded data removed]",
      "text/plain": [
       "<Figure size 432x288 with 1 Axes>"
      ]
     },
     "metadata": {
      "needs_background": "light"
     },
     "output_type": "display_data"
    },
    {
     "name": "stdout",
     "output_type": "stream",
     "text": [
      "{1: 0, 2: 0, 3: 0, 4: 0, 5: 0, 6: 0, 7: 0, 8: 1, 9: 1, 10: 1, 11: 1, 12: 1, 13: 1, 14: 1, 15: 1}\n"
     ]
    },
    {
     "data": {
      "image/png": "[encoded data removed]",
      "text/plain": [
       "<Figure size 432x288 with 1 Axes>"
      ]
     },
     "metadata": {
      "needs_background": "light"
     },
     "output_type": "display_data"
    },
    {
     "name": "stdout",
     "output_type": "stream",
     "text": [
      "{1: 1, 2: 1, 3: 1, 4: 1, 5: 1, 6: 1, 7: 1, 8: 0, 9: 0, 10: 0, 11: 0, 12: 0, 13: 0, 14: 0, 15: 0}\n"
     ]
    },
    {
     "data": {
      "image/png": "[encoded data removed]",
      "text/plain": [
       "<Figure size 432x288 with 1 Axes>"
      ]
     },
     "metadata": {
      "needs_background": "light"
     },
     "output_type": "display_data"
    },
    {
     "name": "stdout",
     "output_type": "stream",
     "text": [
      "{1: 0, 2: 0, 3: 0, 4: 0, 5: 0, 6: 0, 7: 0, 8: 0, 9: 1, 10: 1, 11: 1, 12: 1, 13: 1, 14: 1, 15: 1}\n"
     ]
    }
   ],
   "source": [
    "for name in ['com', 'text', 'content', 'tasks', 'goals']:\n",
    "    martixdf = pd.read_csv(f'matrices/{name}_matrix.csv', delimiter='^', header=None, skiprows=1)\n",
    "    martixdf.drop(0, axis=1)\n",
    "    showDendogram(martixdf, name)\n",
    "    showKmeans(martixdf, name, 2)"
   ]
  }
 ],
 "metadata": {
  "kernelspec": {
   "display_name": "Python 3",
   "language": "python",
   "name": "python3"
  },
  "language_info": {
   "codemirror_mode": {
    "name": "ipython",
    "version": 3
   },
   "file_extension": ".py",
   "mimetype": "text/x-python",
   "name": "python",
   "nbconvert_exporter": "python",
   "pygments_lexer": "ipython3",
   "version": "3.8.5"
  }
 },
 "nbformat": 4,
 "nbformat_minor": 4
}
